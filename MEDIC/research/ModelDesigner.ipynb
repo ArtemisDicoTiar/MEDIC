{
 "cells": [
  {
   "cell_type": "code",
   "execution_count": 1,
   "id": "absent-classics",
   "metadata": {},
   "outputs": [
    {
     "name": "stdout",
     "output_type": "stream",
     "text": [
      "Thu Jul 15 16:07:33 2021       \r\n",
      "+-----------------------------------------------------------------------------+\r\n",
      "| NVIDIA-SMI 450.51.06    Driver Version: 450.51.06    CUDA Version: 11.0     |\r\n",
      "|-------------------------------+----------------------+----------------------+\r\n",
      "| GPU  Name        Persistence-M| Bus-Id        Disp.A | Volatile Uncorr. ECC |\r\n",
      "| Fan  Temp  Perf  Pwr:Usage/Cap|         Memory-Usage | GPU-Util  Compute M. |\r\n",
      "|                               |                      |               MIG M. |\r\n",
      "|===============================+======================+======================|\r\n",
      "|   0  Tesla T4            Off  | 00000000:00:04.0 Off |                    0 |\r\n",
      "| N/A   63C    P0    38W /  70W |      0MiB / 15109MiB |      0%      Default |\r\n",
      "|                               |                      |                  N/A |\r\n",
      "+-------------------------------+----------------------+----------------------+\r\n",
      "                                                                               \r\n",
      "+-----------------------------------------------------------------------------+\r\n",
      "| Processes:                                                                  |\r\n",
      "|  GPU   GI   CI        PID   Type   Process name                  GPU Memory |\r\n",
      "|        ID   ID                                                   Usage      |\r\n",
      "|=============================================================================|\r\n",
      "|  No running processes found                                                 |\r\n",
      "+-----------------------------------------------------------------------------+\r\n"
     ]
    }
   ],
   "source": [
    "!nvidia-smi"
   ]
  },
  {
   "cell_type": "code",
   "execution_count": 2,
   "id": "infectious-detroit",
   "metadata": {},
   "outputs": [],
   "source": [
    "import pandas as pd\n",
    "import numpy as np\n",
    "import sklearn\n",
    "from sklearn.model_selection import train_test_split\n",
    "from sklearn import preprocessing\n",
    "import tensorflow as tf\n",
    "from tensorflow import keras\n",
    "from tensorflow.keras import layers"
   ]
  },
  {
   "cell_type": "code",
   "execution_count": 3,
   "id": "lesbian-possession",
   "metadata": {},
   "outputs": [],
   "source": [
    "moving_average_window = 7"
   ]
  },
  {
   "cell_type": "code",
   "execution_count": 4,
   "id": "recreational-christopher",
   "metadata": {
    "scrolled": true
   },
   "outputs": [],
   "source": [
    "total_df = pd.read_csv('./total.csv').drop('Unnamed: 0', axis=1)"
   ]
  },
  {
   "cell_type": "code",
   "execution_count": 5,
   "id": "middle-patch",
   "metadata": {},
   "outputs": [],
   "source": [
    "for idx, country in enumerate(list(set(total_df['CountryCode']))):\n",
    "    total_df.loc[total_df['CountryCode'] == country,'covid_confirmed'] = \\\n",
    "        total_df.loc[total_df['CountryCode'] == country,'covid_confirmed'].rolling(window=moving_average_window).mean()\n",
    "    total_df.loc[total_df['CountryCode'] == country,'covid_deaths'] = \\\n",
    "        total_df.loc[total_df['CountryCode'] == country,'covid_deaths'].rolling(window=moving_average_window).mean()\n",
    "    total_df.loc[total_df['CountryCode'] == country,'covid_recovered'] = \\\n",
    "        total_df.loc[total_df['CountryCode'] == country,'covid_recovered'].rolling(window=moving_average_window).mean()\n",
    "    \n",
    "    total_df.loc[total_df['CountryCode'] == country,'test_cumulTotal'] = \\\n",
    "        total_df.loc[total_df['CountryCode'] == country,'test_cumulTotal'].rolling(window=moving_average_window).mean()\n",
    "    total_df.loc[total_df['CountryCode'] == country,'test_7dayMA'] = \\\n",
    "        total_df.loc[total_df['CountryCode'] == country,'test_7dayMA'].rolling(window=moving_average_window).mean()\n",
    "    total_df.loc[total_df['CountryCode'] == country,'test_shortPosRate'] = \\\n",
    "        total_df.loc[total_df['CountryCode'] == country,'test_shortPosRate'].rolling(window=moving_average_window).mean()\n",
    "    total_df.loc[total_df['CountryCode'] == country,'test_shortTestperCase'] = \\\n",
    "        total_df.loc[total_df['CountryCode'] == country,'test_shortTestperCase'].rolling(window=moving_average_window).mean()\n",
    "    \n",
    "    total_df.loc[total_df['CountryCode'] == country,'vac_first'] = \\\n",
    "        total_df.loc[total_df['CountryCode'] == country,'vac_first'].rolling(window=moving_average_window).mean()\n",
    "    total_df.loc[total_df['CountryCode'] == country,'vac_second'] = \\\n",
    "        total_df.loc[total_df['CountryCode'] == country,'vac_second'].rolling(window=moving_average_window).mean()\n",
    "    total_df.loc[total_df['CountryCode'] == country,'vac_daily'] = \\\n",
    "        total_df.loc[total_df['CountryCode'] == country,'vac_daily'].rolling(window=moving_average_window).mean()\n",
    "    \n",
    "    total_df.loc[total_df['CountryCode'] == country,'mob_retailRecreation'] = \\\n",
    "        total_df.loc[total_df['CountryCode'] == country,'mob_retailRecreation'].rolling(window=moving_average_window).mean()\n",
    "    total_df.loc[total_df['CountryCode'] == country,'mob_groceryPharmacy'] = \\\n",
    "        total_df.loc[total_df['CountryCode'] == country,'mob_groceryPharmacy'].rolling(window=moving_average_window).mean()\n",
    "    total_df.loc[total_df['CountryCode'] == country,'mob_parks'] = \\\n",
    "        total_df.loc[total_df['CountryCode'] == country,'mob_parks'].rolling(window=moving_average_window).mean()\n",
    "    total_df.loc[total_df['CountryCode'] == country,'mob_transit'] = \\\n",
    "        total_df.loc[total_df['CountryCode'] == country,'mob_transit'].rolling(window=moving_average_window).mean()\n",
    "    total_df.loc[total_df['CountryCode'] == country,'mob_work'] = \\\n",
    "        total_df.loc[total_df['CountryCode'] == country,'mob_work'].rolling(window=moving_average_window).mean()\n",
    "    total_df.loc[total_df['CountryCode'] == country,'mob_resident'] = \\\n",
    "        total_df.loc[total_df['CountryCode'] == country,'mob_resident'].rolling(window=moving_average_window).mean()\n",
    "    "
   ]
  },
  {
   "cell_type": "code",
   "execution_count": 6,
   "id": "initial-removal",
   "metadata": {},
   "outputs": [
    {
     "name": "stdout",
     "output_type": "stream",
     "text": [
      "<class 'pandas.core.frame.DataFrame'>\n",
      "Int64Index: 52452 entries, 6 to 53027\n",
      "Data columns (total 18 columns):\n",
      " #   Column                 Non-Null Count  Dtype  \n",
      "---  ------                 --------------  -----  \n",
      " 0   CountryCode            52452 non-null  object \n",
      " 1   date                   52452 non-null  object \n",
      " 2   covid_confirmed        52452 non-null  float64\n",
      " 3   covid_deaths           52452 non-null  float64\n",
      " 4   covid_recovered        52452 non-null  float64\n",
      " 5   test_cumulTotal        52452 non-null  float64\n",
      " 6   test_7dayMA            52452 non-null  float64\n",
      " 7   test_shortPosRate      52452 non-null  float64\n",
      " 8   test_shortTestperCase  52452 non-null  float64\n",
      " 9   vac_first              52452 non-null  float64\n",
      " 10  vac_second             52452 non-null  float64\n",
      " 11  vac_daily              52452 non-null  float64\n",
      " 12  mob_retailRecreation   52452 non-null  float64\n",
      " 13  mob_groceryPharmacy    52452 non-null  float64\n",
      " 14  mob_parks              52452 non-null  float64\n",
      " 15  mob_transit            52452 non-null  float64\n",
      " 16  mob_work               52452 non-null  float64\n",
      " 17  mob_resident           52452 non-null  float64\n",
      "dtypes: float64(16), object(2)\n",
      "memory usage: 7.6+ MB\n"
     ]
    }
   ],
   "source": [
    "total_df.dropna(inplace=True)\n",
    "total_df.info()"
   ]
  },
  {
   "cell_type": "code",
   "execution_count": 7,
   "id": "buried-baseline",
   "metadata": {},
   "outputs": [
    {
     "name": "stdout",
     "output_type": "stream",
     "text": [
      "................................................................................................"
     ]
    }
   ],
   "source": [
    "# prepare dataset\n",
    "window = 56\n",
    "predict = 28\n",
    "\n",
    "data_x = list()\n",
    "data_y = list()\n",
    "\n",
    "\n",
    "\n",
    "for idx, country in enumerate(list(set(total_df['CountryCode']))):\n",
    "    cur_df = total_df[total_df['CountryCode'] == country]\n",
    "    print('.', end='')\n",
    "    \n",
    "    time_range = sorted(set(cur_df['date']))\n",
    "    for time_idx in range(len(time_range)-(window+predict) + 1):\n",
    "        view_start_date = time_range[time_idx]\n",
    "        view_end_date = time_range[time_idx+(window-1)]\n",
    "        \n",
    "        pred_start_date = time_range[time_idx+window]\n",
    "        pred_end_date = time_range[time_idx+(window+predict-1)]\n",
    "        \n",
    "        data = cur_df[(view_start_date <= cur_df['date']) & (cur_df['date'] <= pred_end_date)][[\n",
    "            'covid_confirmed',\n",
    "            'covid_deaths',\n",
    "            'covid_recovered',\n",
    "            'test_cumulTotal',\n",
    "            'test_7dayMA',\n",
    "            'test_shortPosRate',\n",
    "            'test_shortTestperCase',\n",
    "            'vac_first',\n",
    "            'vac_second',\n",
    "            'vac_daily',\n",
    "            'mob_retailRecreation',\n",
    "            'mob_groceryPharmacy',\n",
    "            'mob_parks',\n",
    "            'mob_transit',\n",
    "            'mob_work',\n",
    "            'mob_resident',\n",
    "        ]]\n",
    "        \n",
    "        normalised_data = list()\n",
    "        for feature in [\n",
    "            'covid_confirmed',\n",
    "            'covid_deaths',\n",
    "            'covid_recovered',\n",
    "            'test_cumulTotal',\n",
    "            'test_7dayMA',\n",
    "            'test_shortPosRate',\n",
    "            'test_shortTestperCase',\n",
    "            'vac_first',\n",
    "            'vac_second',\n",
    "            'vac_daily',\n",
    "            'mob_retailRecreation',\n",
    "            'mob_groceryPharmacy',\n",
    "            'mob_parks',\n",
    "            'mob_transit',\n",
    "            'mob_work',\n",
    "            'mob_resident',\n",
    "        ]:\n",
    "            scaler = preprocessing.StandardScaler().fit(data[feature].to_numpy().reshape(-1, 1))\n",
    "            scaled_data = scaler.transform(data[feature].to_numpy().reshape(-1, 1))\n",
    "            normalised_data.append(scaled_data.reshape(1, -1)[0])\n",
    "\n",
    "        normalised_data = np.transpose(np.array(normalised_data))\n",
    "\n",
    "        x = np.array(normalised_data[:window, :])\n",
    "        y = np.array(normalised_data[window:window+predict, 0])\n",
    "\n",
    "        data_x.append(x)\n",
    "        data_y.append(y)    \n"
   ]
  },
  {
   "cell_type": "code",
   "execution_count": 8,
   "id": "variable-redhead",
   "metadata": {},
   "outputs": [
    {
     "name": "stdout",
     "output_type": "stream",
     "text": [
      "(43270, 56, 16)\n",
      "(43270, 28)\n"
     ]
    }
   ],
   "source": [
    "# (data size, time_steps, features)\n",
    "\n",
    "np_x = np.array(data_x)\n",
    "np_y = np.array(data_y)\n",
    "print(np_x.shape)\n",
    "print(np_y.shape)"
   ]
  },
  {
   "cell_type": "code",
   "execution_count": 9,
   "id": "british-playlist",
   "metadata": {},
   "outputs": [],
   "source": [
    "x_train, x_test, y_train, y_test = train_test_split(np_x, np_y, test_size=0.2, shuffle=True, random_state=42)\n",
    "x_train, x_valid, y_train, y_valid = train_test_split(x_train, y_train, test_size=0.25, shuffle=True, random_state=42)"
   ]
  },
  {
   "cell_type": "code",
   "execution_count": 10,
   "id": "fresh-subdivision",
   "metadata": {},
   "outputs": [
    {
     "name": "stdout",
     "output_type": "stream",
     "text": [
      "(25962, 56, 16) (8654, 56, 16) (8654, 56, 16)\n",
      "(25962, 28) (8654, 28) (8654, 28)\n"
     ]
    }
   ],
   "source": [
    "print(x_train.shape, x_valid.shape, x_test.shape)\n",
    "print(y_train.shape, y_valid.shape, y_test.shape)"
   ]
  },
  {
   "cell_type": "markdown",
   "id": "outer-preparation",
   "metadata": {},
   "source": [
    "# Modelling"
   ]
  },
  {
   "cell_type": "code",
   "execution_count": 17,
   "id": "heavy-launch",
   "metadata": {},
   "outputs": [],
   "source": [
    "batch_size = 512"
   ]
  },
  {
   "cell_type": "code",
   "execution_count": 18,
   "id": "rational-basics",
   "metadata": {
    "scrolled": true
   },
   "outputs": [
    {
     "name": "stdout",
     "output_type": "stream",
     "text": [
      "Model: \"sequential_1\"\n",
      "_________________________________________________________________\n",
      "Layer (type)                 Output Shape              Param #   \n",
      "=================================================================\n",
      "conv1d_3 (Conv1D)            (None, 56, 32)            3616      \n",
      "_________________________________________________________________\n",
      "conv1d_4 (Conv1D)            (None, 56, 64)            28736     \n",
      "_________________________________________________________________\n",
      "conv1d_5 (Conv1D)            (None, 56, 64)            28736     \n",
      "_________________________________________________________________\n",
      "conv1d_6 (Conv1D)            (None, 56, 64)            57408     \n",
      "_________________________________________________________________\n",
      "conv1d_7 (Conv1D)            (None, 56, 128)           57472     \n",
      "_________________________________________________________________\n",
      "conv1d_8 (Conv1D)            (None, 56, 128)           229504    \n",
      "_________________________________________________________________\n",
      "lstm_1 (LSTM)                (None, 64)                49408     \n",
      "_________________________________________________________________\n",
      "dropout_1 (Dropout)          (None, 64)                0         \n",
      "_________________________________________________________________\n",
      "dense_3 (Dense)              (None, 64)                4160      \n",
      "_________________________________________________________________\n",
      "dense_4 (Dense)              (None, 32)                2080      \n",
      "_________________________________________________________________\n",
      "dense_5 (Dense)              (None, 28)                924       \n",
      "=================================================================\n",
      "Total params: 462,044\n",
      "Trainable params: 462,044\n",
      "Non-trainable params: 0\n",
      "_________________________________________________________________\n"
     ]
    }
   ],
   "source": [
    "model = keras.Sequential()\n",
    "model.add(layers.Conv1D(filters=32, kernel_size=7, padding='SAME', input_shape=(window, 16)))\n",
    "model.add(layers.Conv1D(filters=64, kernel_size=14, padding='SAME'))\n",
    "model.add(layers.Conv1D(filters=64, kernel_size=7, padding='SAME'))\n",
    "model.add(layers.Conv1D(filters=64, kernel_size=14, padding='SAME'))\n",
    "model.add(layers.Conv1D(filters=128, kernel_size=7, padding='SAME'))\n",
    "model.add(layers.Conv1D(filters=128, kernel_size=14, padding='SAME'))\n",
    "\n",
    "model.add(layers.LSTM(units=64, activation='tanh', return_sequences=False))\n",
    "\n",
    "model.add(layers.Dropout(rate=0.2))\n",
    "\n",
    "model.add(layers.Dense(64))\n",
    "model.add(layers.Dense(32))\n",
    "model.add(layers.Dense(predict))\n",
    "\n",
    "model.summary()\n"
   ]
  },
  {
   "cell_type": "code",
   "execution_count": 19,
   "id": "empirical-glossary",
   "metadata": {
    "scrolled": true
   },
   "outputs": [
    {
     "name": "stdout",
     "output_type": "stream",
     "text": [
      "Epoch 1/1000\n",
      "51/51 [==============================] - ETA: 0s - loss: 0.8421 - acc: 0.0979 - mae: 0.7112 - mape: 92447.8184 - mse: 0.8421"
     ]
    },
    {
     "ename": "KeyboardInterrupt",
     "evalue": "",
     "output_type": "error",
     "traceback": [
      "\u001b[0;31m---------------------------------------------------------------------------\u001b[0m",
      "\u001b[0;31mKeyboardInterrupt\u001b[0m                         Traceback (most recent call last)",
      "\u001b[0;32m<ipython-input-19-85938fcb8441>\u001b[0m in \u001b[0;36m<module>\u001b[0;34m\u001b[0m\n\u001b[1;32m      8\u001b[0m \u001b[0;31m# 모델 트레이닝\u001b[0m\u001b[0;34m\u001b[0m\u001b[0;34m\u001b[0m\u001b[0;34m\u001b[0m\u001b[0m\n\u001b[1;32m      9\u001b[0m history = model.fit(x_train, y_train, validation_data=(x_valid, y_valid), \n\u001b[0;32m---> 10\u001b[0;31m                      epochs=1000, batch_size=batch_size, callbacks=[early_stopping], verbose=1)\n\u001b[0m",
      "\u001b[0;32m/opt/conda/lib/python3.7/site-packages/tensorflow/python/keras/engine/training.py\u001b[0m in \u001b[0;36mfit\u001b[0;34m(self, x, y, batch_size, epochs, verbose, callbacks, validation_split, validation_data, shuffle, class_weight, sample_weight, initial_epoch, steps_per_epoch, validation_steps, validation_batch_size, validation_freq, max_queue_size, workers, use_multiprocessing)\u001b[0m\n\u001b[1;32m   1139\u001b[0m               \u001b[0mworkers\u001b[0m\u001b[0;34m=\u001b[0m\u001b[0mworkers\u001b[0m\u001b[0;34m,\u001b[0m\u001b[0;34m\u001b[0m\u001b[0;34m\u001b[0m\u001b[0m\n\u001b[1;32m   1140\u001b[0m               \u001b[0muse_multiprocessing\u001b[0m\u001b[0;34m=\u001b[0m\u001b[0muse_multiprocessing\u001b[0m\u001b[0;34m,\u001b[0m\u001b[0;34m\u001b[0m\u001b[0;34m\u001b[0m\u001b[0m\n\u001b[0;32m-> 1141\u001b[0;31m               return_dict=True)\n\u001b[0m\u001b[1;32m   1142\u001b[0m           \u001b[0mval_logs\u001b[0m \u001b[0;34m=\u001b[0m \u001b[0;34m{\u001b[0m\u001b[0;34m'val_'\u001b[0m \u001b[0;34m+\u001b[0m \u001b[0mname\u001b[0m\u001b[0;34m:\u001b[0m \u001b[0mval\u001b[0m \u001b[0;32mfor\u001b[0m \u001b[0mname\u001b[0m\u001b[0;34m,\u001b[0m \u001b[0mval\u001b[0m \u001b[0;32min\u001b[0m \u001b[0mval_logs\u001b[0m\u001b[0;34m.\u001b[0m\u001b[0mitems\u001b[0m\u001b[0;34m(\u001b[0m\u001b[0;34m)\u001b[0m\u001b[0;34m}\u001b[0m\u001b[0;34m\u001b[0m\u001b[0;34m\u001b[0m\u001b[0m\n\u001b[1;32m   1143\u001b[0m           \u001b[0mepoch_logs\u001b[0m\u001b[0;34m.\u001b[0m\u001b[0mupdate\u001b[0m\u001b[0;34m(\u001b[0m\u001b[0mval_logs\u001b[0m\u001b[0;34m)\u001b[0m\u001b[0;34m\u001b[0m\u001b[0;34m\u001b[0m\u001b[0m\n",
      "\u001b[0;32m/opt/conda/lib/python3.7/site-packages/tensorflow/python/keras/engine/training.py\u001b[0m in \u001b[0;36mevaluate\u001b[0;34m(self, x, y, batch_size, verbose, sample_weight, steps, callbacks, max_queue_size, workers, use_multiprocessing, return_dict)\u001b[0m\n\u001b[1;32m   1387\u001b[0m             \u001b[0;32mwith\u001b[0m \u001b[0mtrace\u001b[0m\u001b[0;34m.\u001b[0m\u001b[0mTrace\u001b[0m\u001b[0;34m(\u001b[0m\u001b[0;34m'test'\u001b[0m\u001b[0;34m,\u001b[0m \u001b[0mstep_num\u001b[0m\u001b[0;34m=\u001b[0m\u001b[0mstep\u001b[0m\u001b[0;34m,\u001b[0m \u001b[0m_r\u001b[0m\u001b[0;34m=\u001b[0m\u001b[0;36m1\u001b[0m\u001b[0;34m)\u001b[0m\u001b[0;34m:\u001b[0m\u001b[0;34m\u001b[0m\u001b[0;34m\u001b[0m\u001b[0m\n\u001b[1;32m   1388\u001b[0m               \u001b[0mcallbacks\u001b[0m\u001b[0;34m.\u001b[0m\u001b[0mon_test_batch_begin\u001b[0m\u001b[0;34m(\u001b[0m\u001b[0mstep\u001b[0m\u001b[0;34m)\u001b[0m\u001b[0;34m\u001b[0m\u001b[0;34m\u001b[0m\u001b[0m\n\u001b[0;32m-> 1389\u001b[0;31m               \u001b[0mtmp_logs\u001b[0m \u001b[0;34m=\u001b[0m \u001b[0mself\u001b[0m\u001b[0;34m.\u001b[0m\u001b[0mtest_function\u001b[0m\u001b[0;34m(\u001b[0m\u001b[0miterator\u001b[0m\u001b[0;34m)\u001b[0m\u001b[0;34m\u001b[0m\u001b[0;34m\u001b[0m\u001b[0m\n\u001b[0m\u001b[1;32m   1390\u001b[0m               \u001b[0;32mif\u001b[0m \u001b[0mdata_handler\u001b[0m\u001b[0;34m.\u001b[0m\u001b[0mshould_sync\u001b[0m\u001b[0;34m:\u001b[0m\u001b[0;34m\u001b[0m\u001b[0;34m\u001b[0m\u001b[0m\n\u001b[1;32m   1391\u001b[0m                 \u001b[0mcontext\u001b[0m\u001b[0;34m.\u001b[0m\u001b[0masync_wait\u001b[0m\u001b[0;34m(\u001b[0m\u001b[0;34m)\u001b[0m\u001b[0;34m\u001b[0m\u001b[0;34m\u001b[0m\u001b[0m\n",
      "\u001b[0;32m/opt/conda/lib/python3.7/site-packages/tensorflow/python/eager/def_function.py\u001b[0m in \u001b[0;36m__call__\u001b[0;34m(self, *args, **kwds)\u001b[0m\n\u001b[1;32m    826\u001b[0m     \u001b[0mtracing_count\u001b[0m \u001b[0;34m=\u001b[0m \u001b[0mself\u001b[0m\u001b[0;34m.\u001b[0m\u001b[0mexperimental_get_tracing_count\u001b[0m\u001b[0;34m(\u001b[0m\u001b[0;34m)\u001b[0m\u001b[0;34m\u001b[0m\u001b[0;34m\u001b[0m\u001b[0m\n\u001b[1;32m    827\u001b[0m     \u001b[0;32mwith\u001b[0m \u001b[0mtrace\u001b[0m\u001b[0;34m.\u001b[0m\u001b[0mTrace\u001b[0m\u001b[0;34m(\u001b[0m\u001b[0mself\u001b[0m\u001b[0;34m.\u001b[0m\u001b[0m_name\u001b[0m\u001b[0;34m)\u001b[0m \u001b[0;32mas\u001b[0m \u001b[0mtm\u001b[0m\u001b[0;34m:\u001b[0m\u001b[0;34m\u001b[0m\u001b[0;34m\u001b[0m\u001b[0m\n\u001b[0;32m--> 828\u001b[0;31m       \u001b[0mresult\u001b[0m \u001b[0;34m=\u001b[0m \u001b[0mself\u001b[0m\u001b[0;34m.\u001b[0m\u001b[0m_call\u001b[0m\u001b[0;34m(\u001b[0m\u001b[0;34m*\u001b[0m\u001b[0margs\u001b[0m\u001b[0;34m,\u001b[0m \u001b[0;34m**\u001b[0m\u001b[0mkwds\u001b[0m\u001b[0;34m)\u001b[0m\u001b[0;34m\u001b[0m\u001b[0;34m\u001b[0m\u001b[0m\n\u001b[0m\u001b[1;32m    829\u001b[0m       \u001b[0mcompiler\u001b[0m \u001b[0;34m=\u001b[0m \u001b[0;34m\"xla\"\u001b[0m \u001b[0;32mif\u001b[0m \u001b[0mself\u001b[0m\u001b[0;34m.\u001b[0m\u001b[0m_experimental_compile\u001b[0m \u001b[0;32melse\u001b[0m \u001b[0;34m\"nonXla\"\u001b[0m\u001b[0;34m\u001b[0m\u001b[0;34m\u001b[0m\u001b[0m\n\u001b[1;32m    830\u001b[0m       \u001b[0mnew_tracing_count\u001b[0m \u001b[0;34m=\u001b[0m \u001b[0mself\u001b[0m\u001b[0;34m.\u001b[0m\u001b[0mexperimental_get_tracing_count\u001b[0m\u001b[0;34m(\u001b[0m\u001b[0;34m)\u001b[0m\u001b[0;34m\u001b[0m\u001b[0;34m\u001b[0m\u001b[0m\n",
      "\u001b[0;32m/opt/conda/lib/python3.7/site-packages/tensorflow/python/eager/def_function.py\u001b[0m in \u001b[0;36m_call\u001b[0;34m(self, *args, **kwds)\u001b[0m\n\u001b[1;32m    860\u001b[0m       \u001b[0;31m# In this case we have not created variables on the first call. So we can\u001b[0m\u001b[0;34m\u001b[0m\u001b[0;34m\u001b[0m\u001b[0;34m\u001b[0m\u001b[0m\n\u001b[1;32m    861\u001b[0m       \u001b[0;31m# run the first trace but we should fail if variables are created.\u001b[0m\u001b[0;34m\u001b[0m\u001b[0;34m\u001b[0m\u001b[0;34m\u001b[0m\u001b[0m\n\u001b[0;32m--> 862\u001b[0;31m       \u001b[0mresults\u001b[0m \u001b[0;34m=\u001b[0m \u001b[0mself\u001b[0m\u001b[0;34m.\u001b[0m\u001b[0m_stateful_fn\u001b[0m\u001b[0;34m(\u001b[0m\u001b[0;34m*\u001b[0m\u001b[0margs\u001b[0m\u001b[0;34m,\u001b[0m \u001b[0;34m**\u001b[0m\u001b[0mkwds\u001b[0m\u001b[0;34m)\u001b[0m\u001b[0;34m\u001b[0m\u001b[0;34m\u001b[0m\u001b[0m\n\u001b[0m\u001b[1;32m    863\u001b[0m       \u001b[0;32mif\u001b[0m \u001b[0mself\u001b[0m\u001b[0;34m.\u001b[0m\u001b[0m_created_variables\u001b[0m\u001b[0;34m:\u001b[0m\u001b[0;34m\u001b[0m\u001b[0;34m\u001b[0m\u001b[0m\n\u001b[1;32m    864\u001b[0m         raise ValueError(\"Creating variables on a non-first call to a function\"\n",
      "\u001b[0;32m/opt/conda/lib/python3.7/site-packages/tensorflow/python/eager/function.py\u001b[0m in \u001b[0;36m__call__\u001b[0;34m(self, *args, **kwargs)\u001b[0m\n\u001b[1;32m   2941\u001b[0m        filtered_flat_args) = self._maybe_define_function(args, kwargs)\n\u001b[1;32m   2942\u001b[0m     return graph_function._call_flat(\n\u001b[0;32m-> 2943\u001b[0;31m         filtered_flat_args, captured_inputs=graph_function.captured_inputs)  # pylint: disable=protected-access\n\u001b[0m\u001b[1;32m   2944\u001b[0m \u001b[0;34m\u001b[0m\u001b[0m\n\u001b[1;32m   2945\u001b[0m   \u001b[0;34m@\u001b[0m\u001b[0mproperty\u001b[0m\u001b[0;34m\u001b[0m\u001b[0;34m\u001b[0m\u001b[0m\n",
      "\u001b[0;32m/opt/conda/lib/python3.7/site-packages/tensorflow/python/eager/function.py\u001b[0m in \u001b[0;36m_call_flat\u001b[0;34m(self, args, captured_inputs, cancellation_manager)\u001b[0m\n\u001b[1;32m   1917\u001b[0m       \u001b[0;31m# No tape is watching; skip to running the function.\u001b[0m\u001b[0;34m\u001b[0m\u001b[0;34m\u001b[0m\u001b[0;34m\u001b[0m\u001b[0m\n\u001b[1;32m   1918\u001b[0m       return self._build_call_outputs(self._inference_function.call(\n\u001b[0;32m-> 1919\u001b[0;31m           ctx, args, cancellation_manager=cancellation_manager))\n\u001b[0m\u001b[1;32m   1920\u001b[0m     forward_backward = self._select_forward_and_backward_functions(\n\u001b[1;32m   1921\u001b[0m         \u001b[0margs\u001b[0m\u001b[0;34m,\u001b[0m\u001b[0;34m\u001b[0m\u001b[0;34m\u001b[0m\u001b[0m\n",
      "\u001b[0;32m/opt/conda/lib/python3.7/site-packages/tensorflow/python/eager/function.py\u001b[0m in \u001b[0;36mcall\u001b[0;34m(self, ctx, args, cancellation_manager)\u001b[0m\n\u001b[1;32m    558\u001b[0m               \u001b[0minputs\u001b[0m\u001b[0;34m=\u001b[0m\u001b[0margs\u001b[0m\u001b[0;34m,\u001b[0m\u001b[0;34m\u001b[0m\u001b[0;34m\u001b[0m\u001b[0m\n\u001b[1;32m    559\u001b[0m               \u001b[0mattrs\u001b[0m\u001b[0;34m=\u001b[0m\u001b[0mattrs\u001b[0m\u001b[0;34m,\u001b[0m\u001b[0;34m\u001b[0m\u001b[0;34m\u001b[0m\u001b[0m\n\u001b[0;32m--> 560\u001b[0;31m               ctx=ctx)\n\u001b[0m\u001b[1;32m    561\u001b[0m         \u001b[0;32melse\u001b[0m\u001b[0;34m:\u001b[0m\u001b[0;34m\u001b[0m\u001b[0;34m\u001b[0m\u001b[0m\n\u001b[1;32m    562\u001b[0m           outputs = execute.execute_with_cancellation(\n",
      "\u001b[0;32m/opt/conda/lib/python3.7/site-packages/tensorflow/python/eager/execute.py\u001b[0m in \u001b[0;36mquick_execute\u001b[0;34m(op_name, num_outputs, inputs, attrs, ctx, name)\u001b[0m\n\u001b[1;32m     58\u001b[0m     \u001b[0mctx\u001b[0m\u001b[0;34m.\u001b[0m\u001b[0mensure_initialized\u001b[0m\u001b[0;34m(\u001b[0m\u001b[0;34m)\u001b[0m\u001b[0;34m\u001b[0m\u001b[0;34m\u001b[0m\u001b[0m\n\u001b[1;32m     59\u001b[0m     tensors = pywrap_tfe.TFE_Py_Execute(ctx._handle, device_name, op_name,\n\u001b[0;32m---> 60\u001b[0;31m                                         inputs, attrs, num_outputs)\n\u001b[0m\u001b[1;32m     61\u001b[0m   \u001b[0;32mexcept\u001b[0m \u001b[0mcore\u001b[0m\u001b[0;34m.\u001b[0m\u001b[0m_NotOkStatusException\u001b[0m \u001b[0;32mas\u001b[0m \u001b[0me\u001b[0m\u001b[0;34m:\u001b[0m\u001b[0;34m\u001b[0m\u001b[0;34m\u001b[0m\u001b[0m\n\u001b[1;32m     62\u001b[0m     \u001b[0;32mif\u001b[0m \u001b[0mname\u001b[0m \u001b[0;32mis\u001b[0m \u001b[0;32mnot\u001b[0m \u001b[0;32mNone\u001b[0m\u001b[0;34m:\u001b[0m\u001b[0;34m\u001b[0m\u001b[0;34m\u001b[0m\u001b[0m\n",
      "\u001b[0;31mKeyboardInterrupt\u001b[0m: "
     ]
    }
   ],
   "source": [
    "# early stopping\n",
    "from tensorflow.keras.callbacks import EarlyStopping\n",
    "early_stopping = EarlyStopping(monitor='val_loss', patience=10)\n",
    "\n",
    "# 모델 학습과정 설정 \n",
    "model.compile(loss='mse', optimizer='adam', metrics=['acc', 'mae', 'mape', 'mse'])\n",
    "\n",
    "# 모델 트레이닝 \n",
    "history = model.fit(x_train, y_train, validation_data=(x_valid, y_valid), \n",
    "                     epochs=1000, batch_size=batch_size, callbacks=[early_stopping], verbose=1)"
   ]
  },
  {
   "cell_type": "code",
   "execution_count": null,
   "id": "thrown-fluid",
   "metadata": {},
   "outputs": [],
   "source": [
    "import matplotlib.pyplot as plt\n",
    "\n",
    "# summarize history for accuracy\n",
    "plt.plot(history.history['acc'])\n",
    "plt.plot(history.history['val_acc'])\n",
    "plt.title('model accuracy')\n",
    "plt.ylabel('accuracy')\n",
    "plt.xlabel('epoch')\n",
    "plt.legend(['train', 'test'], loc='upper left')\n",
    "plt.show()\n",
    "\n",
    "# summarize history for loss\n",
    "plt.plot(history.history['loss'])\n",
    "plt.plot(history.history['val_loss'])\n",
    "plt.title('model loss')\n",
    "plt.ylabel('loss')\n",
    "plt.xlabel('epoch')\n",
    "plt.legend(['train', 'test'], loc='upper right')\n",
    "plt.show()\n",
    "\n",
    "# summarize history for mae\n",
    "plt.plot(history.history['mae'])\n",
    "plt.plot(history.history['val_mae'])\n",
    "plt.title('model mae')\n",
    "plt.ylabel('mae')\n",
    "plt.xlabel('epoch')\n",
    "plt.legend(['train', 'test'], loc='upper right')\n",
    "plt.show()\n",
    "\n",
    "# summarize history for mape\n",
    "plt.plot(history.history['mape'])\n",
    "plt.plot(history.history['val_mape'])\n",
    "plt.title('model mape')\n",
    "plt.ylabel('mape')\n",
    "plt.xlabel('epoch')\n",
    "plt.legend(['train', 'test'], loc='upper right')\n",
    "plt.show()"
   ]
  },
  {
   "cell_type": "code",
   "execution_count": null,
   "id": "played-inspection",
   "metadata": {},
   "outputs": [],
   "source": [
    "from random import randint\n",
    "idx = randint(0, len(x_test))\n",
    "pred = model.predict(x_test[idx].reshape(1, window, 16))\n",
    "\n",
    "import matplotlib.pyplot as plt\n",
    "\n",
    "plt.figure(figsize=(12, 9))\n",
    "plt.plot(y_test[idx], label = 'actual')\n",
    "plt.plot(pred.reshape(-1, 1), label = 'prediction')\n",
    "plt.legend()\n",
    "plt.show()"
   ]
  },
  {
   "cell_type": "code",
   "execution_count": null,
   "id": "final-concept",
   "metadata": {},
   "outputs": [],
   "source": []
  }
 ],
 "metadata": {
  "kernelspec": {
   "display_name": "Python 3",
   "language": "python",
   "name": "python3"
  },
  "language_info": {
   "codemirror_mode": {
    "name": "ipython",
    "version": 3
   },
   "file_extension": ".py",
   "mimetype": "text/x-python",
   "name": "python",
   "nbconvert_exporter": "python",
   "pygments_lexer": "ipython3",
   "version": "3.7.9"
  }
 },
 "nbformat": 4,
 "nbformat_minor": 5
}
