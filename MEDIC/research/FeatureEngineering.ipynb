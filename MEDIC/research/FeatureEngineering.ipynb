{
 "cells": [
  {
   "cell_type": "code",
   "execution_count": 1,
   "metadata": {},
   "outputs": [],
   "source": [
    "import os\n",
    "import sys\n",
    "module_path = os.path.abspath(os.path.join('../..'))\n",
    "if module_path not in sys.path:\n",
    "    sys.path.append(module_path)"
   ]
  },
  {
   "cell_type": "code",
   "execution_count": 2,
   "metadata": {},
   "outputs": [],
   "source": [
    "import pandas as pd\n",
    "import numpy as np\n",
    "import sklearn\n",
    "from sklearn.model_selection import train_test_split\n",
    "from sklearn import preprocessing\n",
    "import tensorflow as tf\n",
    "from tensorflow import keras\n",
    "from tensorflow.keras import layers\n",
    "\n",
    "from MEDIC.secrets import controller"
   ]
  },
  {
   "cell_type": "code",
   "execution_count": 3,
   "metadata": {
    "scrolled": true
   },
   "outputs": [
    {
     "name": "stdout",
     "output_type": "stream",
     "text": [
      "<class 'pandas.core.frame.DataFrame'>\n",
      "RangeIndex: 104791 entries, 0 to 104790\n",
      "Data columns (total 18 columns):\n",
      " #   Column                 Non-Null Count   Dtype  \n",
      "---  ------                 --------------   -----  \n",
      " 0   CountryCode            104791 non-null  object \n",
      " 1   date                   104791 non-null  object \n",
      " 2   covid_confirmed        104702 non-null  float64\n",
      " 3   covid_deaths           104702 non-null  float64\n",
      " 4   covid_recovered        104702 non-null  float64\n",
      " 5   test_cumulTotal        41225 non-null   float64\n",
      " 6   test_7dayMA            45215 non-null   float64\n",
      " 7   test_shortPosRate      42982 non-null   float64\n",
      " 8   test_shortTestperCase  42474 non-null   float64\n",
      " 9   vac_first              12066 non-null   float64\n",
      " 10  vac_second             10207 non-null   float64\n",
      " 11  vac_daily              17665 non-null   float64\n",
      " 12  mob_retailRecreation   54393 non-null   float64\n",
      " 13  mob_groceryPharmacy    54379 non-null   float64\n",
      " 14  mob_parks              54128 non-null   float64\n",
      " 15  mob_transit            54787 non-null   float64\n",
      " 16  mob_work               54800 non-null   float64\n",
      " 17  mob_resident           54351 non-null   float64\n",
      "dtypes: float64(16), object(2)\n",
      "memory usage: 14.4+ MB\n"
     ]
    }
   ],
   "source": [
    "total_df = pd.read_csv('./total_raw.csv').drop('Unnamed: 0', axis=1)\n",
    "total_df.info()"
   ]
  },
  {
   "cell_type": "code",
   "execution_count": 4,
   "metadata": {},
   "outputs": [
    {
     "data": {
      "text/plain": [
       "True"
      ]
     },
     "execution_count": 4,
     "metadata": {},
     "output_type": "execute_result"
    }
   ],
   "source": [
    "cur_df = total_df.loc[total_df['CountryCode'] == 'AFG']\n",
    "set(cur_df.loc[:, 'test_cumulTotal'].isnull()) == {True}"
   ]
  },
  {
   "cell_type": "code",
   "execution_count": 5,
   "metadata": {},
   "outputs": [],
   "source": [
    "remove_list = list()\n",
    "for country in sorted(set(total_df['CountryCode'])):\n",
    "    cur_df = total_df.loc[total_df['CountryCode'] == country]\n",
    "    if set(cur_df.loc[:, 'test_cumulTotal'].isnull()) == {True}\\\n",
    "        or set(cur_df.loc[:, 'test_7dayMA'].isnull()) == {True}\\\n",
    "        or set(cur_df.loc[:, 'test_shortPosRate'].isnull()) == {True}\\\n",
    "        or set(cur_df.loc[:, 'test_shortTestperCase'].isnull()) == {True}\\\n",
    "        or set(cur_df.loc[:, 'vac_first'].isnull()) == {True}\\\n",
    "        or set(cur_df.loc[:, 'vac_second'].isnull()) == {True}\\\n",
    "        or set(cur_df.loc[:, 'vac_daily'].isnull()) == {True}\\\n",
    "        or set(cur_df.loc[:, 'mob_retailRecreation'].isnull()) == {True}\\\n",
    "        or set(cur_df.loc[:, 'mob_groceryPharmacy'].isnull()) == {True}\\\n",
    "        or set(cur_df.loc[:, 'mob_parks'].isnull()) == {True}\\\n",
    "        or set(cur_df.loc[:, 'mob_transit'].isnull()) == {True}\\\n",
    "        or set(cur_df.loc[:, 'mob_work'].isnull()) == {True}\\\n",
    "        or set(cur_df.loc[:, 'mob_resident'].isnull()) == {True}:\n",
    "        \n",
    "        remove_list.append(country)"
   ]
  },
  {
   "cell_type": "code",
   "execution_count": 6,
   "metadata": {},
   "outputs": [],
   "source": [
    "total_df = total_df[~total_df['CountryCode'].isin(remove_list)]"
   ]
  },
  {
   "cell_type": "code",
   "execution_count": 7,
   "metadata": {},
   "outputs": [
    {
     "name": "stdout",
     "output_type": "stream",
     "text": [
      "<class 'pandas.core.frame.DataFrame'>\n",
      "Int64Index: 53028 entries, 2156 to 104771\n",
      "Data columns (total 18 columns):\n",
      " #   Column                 Non-Null Count  Dtype  \n",
      "---  ------                 --------------  -----  \n",
      " 0   CountryCode            53028 non-null  object \n",
      " 1   date                   53028 non-null  object \n",
      " 2   covid_confirmed        52958 non-null  float64\n",
      " 3   covid_deaths           52958 non-null  float64\n",
      " 4   covid_recovered        52958 non-null  float64\n",
      " 5   test_cumulTotal        39771 non-null  float64\n",
      " 6   test_7dayMA            43641 non-null  float64\n",
      " 7   test_shortPosRate      42071 non-null  float64\n",
      " 8   test_shortTestperCase  41618 non-null  float64\n",
      " 9   vac_first              11257 non-null  float64\n",
      " 10  vac_second             9616 non-null   float64\n",
      " 11  vac_daily              16355 non-null  float64\n",
      " 12  mob_retailRecreation   50258 non-null  float64\n",
      " 13  mob_groceryPharmacy    50256 non-null  float64\n",
      " 14  mob_parks              50099 non-null  float64\n",
      " 15  mob_transit            50290 non-null  float64\n",
      " 16  mob_work               50356 non-null  float64\n",
      " 17  mob_resident           50328 non-null  float64\n",
      "dtypes: float64(16), object(2)\n",
      "memory usage: 7.7+ MB\n"
     ]
    }
   ],
   "source": [
    "total_df.info()"
   ]
  },
  {
   "cell_type": "code",
   "execution_count": 8,
   "metadata": {
    "scrolled": true
   },
   "outputs": [],
   "source": [
    "for country in sorted(set(total_df['CountryCode'])):\n",
    "    total_df.loc[total_df['CountryCode'] == country,'covid_confirmed'] = \\\n",
    "        total_df.loc[total_df['CountryCode'] == country,'covid_confirmed'].fillna(method='ffill').fillna(method='bfill')\n",
    "    total_df.loc[total_df['CountryCode'] == country,'covid_deaths'] = \\\n",
    "        total_df.loc[total_df['CountryCode'] == country,'covid_deaths'].fillna(method='ffill').fillna(method='bfill')\n",
    "    total_df.loc[total_df['CountryCode'] == country,'covid_recovered'] = \\\n",
    "        total_df.loc[total_df['CountryCode'] == country,'covid_recovered'].fillna(method='ffill').fillna(method='bfill')\n",
    "    \n",
    "    total_df.loc[total_df['CountryCode'] == country,'test_cumulTotal'] = \\\n",
    "        total_df.loc[total_df['CountryCode'] == country,'test_cumulTotal'].fillna(method='ffill').fillna(method='bfill')\n",
    "    total_df.loc[total_df['CountryCode'] == country,'test_7dayMA'] = \\\n",
    "        total_df.loc[total_df['CountryCode'] == country,'test_7dayMA'].fillna(method='ffill').fillna(method='bfill')\n",
    "    total_df.loc[total_df['CountryCode'] == country,'test_shortPosRate'] = \\\n",
    "        total_df.loc[total_df['CountryCode'] == country,'test_shortPosRate'].fillna(method='ffill').fillna(method='bfill')\n",
    "    total_df.loc[total_df['CountryCode'] == country,'test_shortTestperCase'] = \\\n",
    "        total_df.loc[total_df['CountryCode'] == country,'test_shortTestperCase'].fillna(method='ffill').fillna(method='bfill')\n",
    "    \n",
    "    total_df.loc[total_df['CountryCode'] == country,'vac_first'] = \\\n",
    "        total_df.loc[total_df['CountryCode'] == country,'vac_first'].fillna(method='ffill').fillna(method='bfill')\n",
    "    total_df.loc[total_df['CountryCode'] == country,'vac_second'] = \\\n",
    "        total_df.loc[total_df['CountryCode'] == country,'vac_second'].fillna(method='ffill').fillna(method='bfill')\n",
    "    total_df.loc[total_df['CountryCode'] == country,'vac_daily'] = \\\n",
    "        total_df.loc[total_df['CountryCode'] == country,'vac_daily'].fillna(method='bfill').fillna(method='ffill')\n",
    "    \n",
    "    total_df.loc[total_df['CountryCode'] == country,'mob_retailRecreation'] = \\\n",
    "        total_df.loc[total_df['CountryCode'] == country,'mob_retailRecreation'].interpolate(method='linear').fillna(method='bfill')\n",
    "    total_df.loc[total_df['CountryCode'] == country,'mob_groceryPharmacy'] = \\\n",
    "        total_df.loc[total_df['CountryCode'] == country,'mob_groceryPharmacy'].interpolate(method='linear').fillna(method='bfill')\n",
    "    total_df.loc[total_df['CountryCode'] == country,'mob_parks'] = \\\n",
    "        total_df.loc[total_df['CountryCode'] == country,'mob_parks'].interpolate(method='linear').fillna(method='bfill')\n",
    "    total_df.loc[total_df['CountryCode'] == country,'mob_transit'] = \\\n",
    "        total_df.loc[total_df['CountryCode'] == country,'mob_transit'].interpolate(method='linear').fillna(method='bfill')\n",
    "    total_df.loc[total_df['CountryCode'] == country,'mob_work'] = \\\n",
    "        total_df.loc[total_df['CountryCode'] == country,'mob_work'].interpolate(method='linear').fillna(method='bfill')\n",
    "    total_df.loc[total_df['CountryCode'] == country,'mob_resident'] = \\\n",
    "        total_df.loc[total_df['CountryCode'] == country,'mob_resident'].interpolate(method='linear').fillna(method='bfill')"
   ]
  },
  {
   "cell_type": "code",
   "execution_count": 9,
   "metadata": {
    "scrolled": false
   },
   "outputs": [
    {
     "name": "stdout",
     "output_type": "stream",
     "text": [
      "<class 'pandas.core.frame.DataFrame'>\n",
      "Int64Index: 53028 entries, 2156 to 104771\n",
      "Data columns (total 18 columns):\n",
      " #   Column                 Non-Null Count  Dtype  \n",
      "---  ------                 --------------  -----  \n",
      " 0   CountryCode            53028 non-null  object \n",
      " 1   date                   53028 non-null  object \n",
      " 2   covid_confirmed        53028 non-null  float64\n",
      " 3   covid_deaths           53028 non-null  float64\n",
      " 4   covid_recovered        53028 non-null  float64\n",
      " 5   test_cumulTotal        53028 non-null  float64\n",
      " 6   test_7dayMA            53028 non-null  float64\n",
      " 7   test_shortPosRate      53028 non-null  float64\n",
      " 8   test_shortTestperCase  53028 non-null  float64\n",
      " 9   vac_first              53028 non-null  float64\n",
      " 10  vac_second             53028 non-null  float64\n",
      " 11  vac_daily              53028 non-null  float64\n",
      " 12  mob_retailRecreation   53028 non-null  float64\n",
      " 13  mob_groceryPharmacy    53028 non-null  float64\n",
      " 14  mob_parks              53028 non-null  float64\n",
      " 15  mob_transit            53028 non-null  float64\n",
      " 16  mob_work               53028 non-null  float64\n",
      " 17  mob_resident           53028 non-null  float64\n",
      "dtypes: float64(16), object(2)\n",
      "memory usage: 7.7+ MB\n"
     ]
    }
   ],
   "source": [
    "total_df.info()"
   ]
  },
  {
   "cell_type": "code",
   "execution_count": 10,
   "metadata": {
    "scrolled": false
   },
   "outputs": [
    {
     "name": "stdout",
     "output_type": "stream",
     "text": [
      "set()\n",
      "set()\n",
      "set()\n"
     ]
    }
   ],
   "source": [
    "print(set(total_df[total_df['covid_confirmed'].isnull()]['CountryCode']))\n",
    "print(set(total_df[total_df['covid_deaths'].isnull()]['CountryCode']))\n",
    "print(set(total_df[total_df['covid_recovered'].isnull()]['CountryCode']))"
   ]
  },
  {
   "cell_type": "code",
   "execution_count": 11,
   "metadata": {},
   "outputs": [
    {
     "data": {
      "text/plain": [
       "561"
      ]
     },
     "execution_count": 11,
     "metadata": {},
     "output_type": "execute_result"
    }
   ],
   "source": [
    "len(set(total_df['date']))"
   ]
  }
 ],
 "metadata": {
  "kernelspec": {
   "display_name": "Python 3",
   "language": "python",
   "name": "python3"
  },
  "language_info": {
   "codemirror_mode": {
    "name": "ipython",
    "version": 3
   },
   "file_extension": ".py",
   "mimetype": "text/x-python",
   "name": "python",
   "nbconvert_exporter": "python",
   "pygments_lexer": "ipython3",
   "version": "3.7.9"
  }
 },
 "nbformat": 4,
 "nbformat_minor": 2
}
