{
 "cells": [
  {
   "cell_type": "code",
   "execution_count": 1,
   "metadata": {},
   "outputs": [],
   "source": [
    "import os\n",
    "import sys\n",
    "module_path = os.path.abspath(os.path.join('../..'))\n",
    "if module_path not in sys.path:\n",
    "    sys.path.append(module_path)"
   ]
  },
  {
   "cell_type": "code",
   "execution_count": 2,
   "metadata": {},
   "outputs": [],
   "source": [
    "import pandas as pd\n",
    "import numpy as np\n",
    "import sklearn\n",
    "from sklearn.model_selection import train_test_split\n",
    "from sklearn import preprocessing\n",
    "import tensorflow as tf\n",
    "from tensorflow import keras\n",
    "from tensorflow.keras import layers\n",
    "\n",
    "from MEDIC.secrets import controller"
   ]
  },
  {
   "cell_type": "code",
   "execution_count": 3,
   "metadata": {},
   "outputs": [],
   "source": [
    "def get_delta_df(df, target: str):\n",
    "    df = df.set_index(['date', 'CountryCode'])\\\n",
    "                .unstack(level=-1)\\\n",
    "                .diff(axis=0)\\\n",
    "                .unstack(level=0)\\\n",
    "                .reset_index()\\\n",
    "                .rename(columns={0: target})\\\n",
    "                .drop('level_0', axis=1)\\\n",
    "                .dropna()\n",
    "    df['date'] = pd.to_datetime(df['date'])\n",
    "\n",
    "    return df"
   ]
  },
  {
   "cell_type": "code",
   "execution_count": 4,
   "metadata": {},
   "outputs": [],
   "source": [
    "confirmed_df = controller.get_df_from_sql(\"select CountryCode, date, confirmed \"\n",
    "                                          \"from covid_info.COVID_Cases \"\n",
    "                                          \"where SubdivisionCode is null and CountryCode != 'not found'\")\n",
    "confirmed_df = get_delta_df(confirmed_df, 'confirmed')\n",
    "\n",
    "deaths_df = controller.get_df_from_sql(\"select CountryCode, date, deaths \"\n",
    "                                          \"from covid_info.COVID_Cases \"\n",
    "                                          \"where SubdivisionCode is null and CountryCode != 'not found'\")\n",
    "deaths_df = get_delta_df(deaths_df, 'deaths')\n",
    "\n",
    "recovered_df = controller.get_df_from_sql(\"select CountryCode, date, recovered \"\n",
    "                                          \"from covid_info.COVID_Cases \"\n",
    "                                          \"where SubdivisionCode is null and CountryCode != 'not found'\")\n",
    "recovered_df = get_delta_df(recovered_df, 'recovered')\n",
    "\n",
    "covid_df = confirmed_df.merge(deaths_df, on=['CountryCode', 'date'])\n",
    "covid_df = covid_df.merge(recovered_df, on=['CountryCode', 'date'])\n",
    "covid_df = covid_df.rename(columns={\n",
    "    'confirmed': 'covid_confirmed',\n",
    "    'deaths': 'covid_deaths',\n",
    "    'recovered': 'covid_recovered',\n",
    "})"
   ]
  },
  {
   "cell_type": "code",
   "execution_count": 5,
   "metadata": {},
   "outputs": [
    {
     "name": "stdout",
     "output_type": "stream",
     "text": [
      "<class 'pandas.core.frame.DataFrame'>\n",
      "RangeIndex: 56264 entries, 0 to 56263\n",
      "Data columns (total 6 columns):\n",
      " #   Column                 Non-Null Count  Dtype         \n",
      "---  ------                 --------------  -----         \n",
      " 0   CountryCode            56264 non-null  object        \n",
      " 1   date                   56264 non-null  datetime64[ns]\n",
      " 2   test_cumulTotal        46719 non-null  float64       \n",
      " 3   test_7dayMA            54542 non-null  float64       \n",
      " 4   test_shortPosRate      51040 non-null  float64       \n",
      " 5   test_shortTestperCase  50410 non-null  float64       \n",
      "dtypes: datetime64[ns](1), float64(4), object(1)\n",
      "memory usage: 2.6+ MB\n"
     ]
    }
   ],
   "source": [
    "testing_df = controller.get_df_from_sql(\n",
    "    \"select `ISO code`, Date, `Cumulative total`, `7-day smoothed daily change`, `Short-term positive rate`, `Short-term tests per case` \"\n",
    "    \"from covid_info.OWID_testing_data\"\n",
    ").rename(columns={\n",
    "    'ISO code': 'CountryCode',\n",
    "    'Date': 'date',\n",
    "    '7-day smoothed daily change': 'test_7dayMA', \n",
    "    'Short-term positive rate': 'test_shortPosRate', \n",
    "    'Short-term tests per case': 'test_shortTestperCase', \n",
    "    'Cumulative total': 'test_cumulTotal'\n",
    "})\n",
    "testing_df['date'] = pd.to_datetime(testing_df['date'])\n",
    "\n",
    "testing_df.info()"
   ]
  },
  {
   "cell_type": "code",
   "execution_count": 6,
   "metadata": {},
   "outputs": [],
   "source": [
    "vaccination_df = controller.get_df_from_sql(\n",
    "    \"select iso_code, date, people_vaccinated, people_fully_vaccinated, daily_vaccinations \"\n",
    "    \"from covid_info.OWID_vaccination_data\"\n",
    ").rename(columns={\n",
    "    'iso_code': 'CountryCode',\n",
    "    'people_vaccinated': 'vac_first',\n",
    "    'people_fully_vaccinated': 'vac_second',\n",
    "    'daily_vaccinations': 'vac_daily'\n",
    "})\n",
    "vaccination_df['date'] = pd.to_datetime(vaccination_df['date'])"
   ]
  },
  {
   "cell_type": "code",
   "execution_count": 7,
   "metadata": {},
   "outputs": [],
   "source": [
    "mobility_df = controller.get_df_from_sql(\n",
    "    \"select CountryCode, date, \"\n",
    "    \"retail_and_recreation_percent_change_from_baseline, \"\n",
    "    \"grocery_and_pharmacy_percent_change_from_baseline, \"\n",
    "    \"parks_percent_change_from_baseline, \"\n",
    "    \"transit_stations_percent_change_from_baseline, \"\n",
    "    \"workplaces_percent_change_from_baseline, \"\n",
    "    \"residential_percent_change_from_baseline \"\n",
    "    \"from covid_info.Google_Mobility \"\n",
    "    \"where CountryCode != 'not found'\"\n",
    ").rename(columns={\n",
    "    'retail_and_recreation_percent_change_from_baseline': 'mob_retailRecreation',\n",
    "    'grocery_and_pharmacy_percent_change_from_baseline': 'mob_groceryPharmacy',\n",
    "    'parks_percent_change_from_baseline': 'mob_parks',\n",
    "    'transit_stations_percent_change_from_baseline': 'mob_transit',\n",
    "    'workplaces_percent_change_from_baseline': 'mob_work',\n",
    "    'residential_percent_change_from_baseline': 'mob_resident'\n",
    "})\n",
    "mobility_df['date'] = pd.to_datetime(mobility_df['date'])"
   ]
  },
  {
   "cell_type": "code",
   "execution_count": 8,
   "metadata": {},
   "outputs": [],
   "source": [
    "countries_with_all_data = set(confirmed_df['CountryCode']) \\\n",
    "& set(testing_df['CountryCode']) \\\n",
    "& set(vaccination_df['CountryCode']) \\\n",
    "& set(mobility_df['CountryCode'])\n",
    "\n",
    "for dels in ['CPV', 'CZE', 'FRA', 'LBY', 'SWE']:\n",
    "    countries_with_all_data.remove(dels)"
   ]
  },
  {
   "cell_type": "code",
   "execution_count": 9,
   "metadata": {},
   "outputs": [],
   "source": [
    "owid_df = testing_df.merge(vaccination_df, \n",
    "                           on=['CountryCode', 'date'],\n",
    "                           how='outer')\n",
    "owid_df = owid_df[owid_df['CountryCode'].isin(countries_with_all_data)]\n",
    "# owid_df['date'] = pd.to_datetime(owid_df['date'])"
   ]
  },
  {
   "cell_type": "code",
   "execution_count": 10,
   "metadata": {},
   "outputs": [],
   "source": [
    "mobility_df = mobility_df[mobility_df['CountryCode'].isin(countries_with_all_data)]"
   ]
  },
  {
   "cell_type": "code",
   "execution_count": 11,
   "metadata": {},
   "outputs": [],
   "source": [
    "total_df = covid_df.merge(owid_df, on=['CountryCode', 'date'], how='outer')\n",
    "total_df = total_df.merge(mobility_df, on=['CountryCode', 'date'], how='outer')"
   ]
  },
  {
   "cell_type": "code",
   "execution_count": 13,
   "metadata": {
    "scrolled": false
   },
   "outputs": [
    {
     "name": "stdout",
     "output_type": "stream",
     "text": [
      "<class 'pandas.core.frame.DataFrame'>\n",
      "Int64Index: 104791 entries, 0 to 104790\n",
      "Data columns (total 18 columns):\n",
      " #   Column                 Non-Null Count   Dtype         \n",
      "---  ------                 --------------   -----         \n",
      " 0   CountryCode            104791 non-null  object        \n",
      " 1   date                   104791 non-null  datetime64[ns]\n",
      " 2   covid_confirmed        104702 non-null  float64       \n",
      " 3   covid_deaths           104702 non-null  float64       \n",
      " 4   covid_recovered        104702 non-null  float64       \n",
      " 5   test_cumulTotal        41225 non-null   float64       \n",
      " 6   test_7dayMA            45215 non-null   float64       \n",
      " 7   test_shortPosRate      42982 non-null   float64       \n",
      " 8   test_shortTestperCase  42474 non-null   float64       \n",
      " 9   vac_first              12066 non-null   float64       \n",
      " 10  vac_second             10207 non-null   float64       \n",
      " 11  vac_daily              17665 non-null   float64       \n",
      " 12  mob_retailRecreation   54393 non-null   float64       \n",
      " 13  mob_groceryPharmacy    54379 non-null   float64       \n",
      " 14  mob_parks              54128 non-null   float64       \n",
      " 15  mob_transit            54787 non-null   float64       \n",
      " 16  mob_work               54800 non-null   float64       \n",
      " 17  mob_resident           54351 non-null   float64       \n",
      "dtypes: datetime64[ns](1), float64(16), object(1)\n",
      "memory usage: 15.2+ MB\n"
     ]
    }
   ],
   "source": [
    "total_df.to_csv('./total_raw.csv')\n",
    "total_df.info()"
   ]
  }
 ],
 "metadata": {
  "kernelspec": {
   "display_name": "Python 3",
   "language": "python",
   "name": "python3"
  },
  "language_info": {
   "codemirror_mode": {
    "name": "ipython",
    "version": 3
   },
   "file_extension": ".py",
   "mimetype": "text/x-python",
   "name": "python",
   "nbconvert_exporter": "python",
   "pygments_lexer": "ipython3",
   "version": "3.7.4"
  }
 },
 "nbformat": 4,
 "nbformat_minor": 2
}
